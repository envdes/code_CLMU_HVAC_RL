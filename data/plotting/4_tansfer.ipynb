{
 "cells": [
  {
   "cell_type": "code",
   "execution_count": 1,
   "metadata": {},
   "outputs": [],
   "source": [
    "import xarray as xr\n",
    "import matplotlib.pyplot as plt\n",
    "import seaborn as sns\n",
    "import pandas as pd\n",
    "import numpy as np\n",
    "plt.rcParams['font.family'] = 'Times New Roman'\n",
    "plt.rcParams['font.weight'] = 'bold'\n",
    "plt.rcParams['xtick.labelsize'] = 12\n",
    "plt.rcParams['axes.labelweight'] = 'bold'\n",
    "plt.rcParams['ytick.labelsize'] = 12\n",
    "plt.rcParams['legend.fontsize'] = 12\n",
    "plt.rcParams['legend.loc'] = 'best'\n",
    "plt.rcParams['figure.titlesize'] = 12\n",
    "plt.rcParams['font.size'] = 12\n",
    "cities_label = {\"London\":\"london\", \n",
    "                \"New York\":\"newyork\", \n",
    "                \"Beijing\":\"beijing\",\n",
    "                \"Hong Kong\":\"hongkong\",\n",
    "                \"Singapore\":\"singapore\"}"
   ]
  },
  {
   "cell_type": "code",
   "execution_count": 2,
   "metadata": {},
   "outputs": [],
   "source": [
    "def reward(P_ac, P_heat, tbuild):\n",
    "    w=0.1\n",
    "    P_ac = P_ac/3.6/0.43\n",
    "    P_heat = P_heat/0.9/0.96\n",
    "    r = -w*1*(P_ac + P_heat) - (1-w)*1*(abs(tbuild - 24 - 273.15) + abs(tbuild - 18 - 273.15))\n",
    "    return r"
   ]
  },
  {
   "cell_type": "code",
   "execution_count": 3,
   "metadata": {},
   "outputs": [],
   "source": [
    "def cal_reward(ax, ds_rl, timeslice=(\"2012\", \"2013\")):\n",
    "    ds_rl['reward'] = reward(ds_rl['URBAN_AC'].isel(landunit=1), ds_rl['URBAN_HEAT'].isel(landunit=1), ds_rl['TBUILD'].isel(landunit=1))\n",
    "    return ds_rl['reward'].sel(time=slice(*timeslice)).mean().values, ds_rl['reward'].sel(time=slice(*timeslice)).std().values"
   ]
  },
  {
   "cell_type": "code",
   "execution_count": 4,
   "metadata": {},
   "outputs": [
    {
     "data": {
      "application/vnd.microsoft.datawrangler.viewer.v0+json": {
       "columns": [
        {
         "name": "index",
         "rawType": "int64",
         "type": "integer"
        },
        {
         "name": "city",
         "rawType": "object",
         "type": "string"
        },
        {
         "name": "mean",
         "rawType": "object",
         "type": "unknown"
        },
        {
         "name": "std",
         "rawType": "object",
         "type": "unknown"
        },
        {
         "name": "type",
         "rawType": "object",
         "type": "string"
        }
       ],
       "conversionMethod": "pd.DataFrame",
       "ref": "d02a922e-f448-4663-a2c8-957cf74f69b8",
       "rows": [
        [
         "0",
         "London",
         "-7.490558",
         "1.2195758",
         "Default"
        ],
        [
         "0",
         "London",
         "-6.5304375",
         "1.2076737",
         "Local"
        ],
        [
         "0",
         "London",
         "-7.3480773",
         "1.897887",
         "Beijing transfer"
        ],
        [
         "0",
         "New York",
         "-8.842535",
         "2.6912062",
         "Default"
        ],
        [
         "0",
         "New York",
         "-7.4896555",
         "1.6290826",
         "Local"
        ],
        [
         "0",
         "New York",
         "-7.944302",
         "2.1567843",
         "Beijing transfer"
        ],
        [
         "0",
         "Beijing",
         "-12.942721",
         "4.852691",
         "Default"
        ],
        [
         "0",
         "Beijing",
         "-7.3818865",
         "1.7486806",
         "Local"
        ],
        [
         "0",
         "Beijing",
         "-7.3609114",
         "1.7036912",
         "Beijing transfer"
        ],
        [
         "0",
         "Hong Kong",
         "-11.374891",
         "5.3298116",
         "Default"
        ],
        [
         "0",
         "Hong Kong",
         "-8.904188",
         "3.5600262",
         "Local"
        ],
        [
         "0",
         "Hong Kong",
         "-6.7675724",
         "1.0667317",
         "Beijing transfer"
        ],
        [
         "0",
         "Singapore",
         "-14.112727",
         "2.2382314",
         "Default"
        ],
        [
         "0",
         "Singapore",
         "-7.508499",
         "0.13611099",
         "Local"
        ],
        [
         "0",
         "Singapore",
         "-7.504309",
         "0.1191459",
         "Beijing transfer"
        ]
       ],
       "shape": {
        "columns": 4,
        "rows": 15
       }
      },
      "text/html": [
       "<div>\n",
       "<style scoped>\n",
       "    .dataframe tbody tr th:only-of-type {\n",
       "        vertical-align: middle;\n",
       "    }\n",
       "\n",
       "    .dataframe tbody tr th {\n",
       "        vertical-align: top;\n",
       "    }\n",
       "\n",
       "    .dataframe thead th {\n",
       "        text-align: right;\n",
       "    }\n",
       "</style>\n",
       "<table border=\"1\" class=\"dataframe\">\n",
       "  <thead>\n",
       "    <tr style=\"text-align: right;\">\n",
       "      <th></th>\n",
       "      <th>city</th>\n",
       "      <th>mean</th>\n",
       "      <th>std</th>\n",
       "      <th>type</th>\n",
       "    </tr>\n",
       "  </thead>\n",
       "  <tbody>\n",
       "    <tr>\n",
       "      <th>0</th>\n",
       "      <td>London</td>\n",
       "      <td>-7.490558</td>\n",
       "      <td>1.2195758</td>\n",
       "      <td>Default</td>\n",
       "    </tr>\n",
       "    <tr>\n",
       "      <th>0</th>\n",
       "      <td>London</td>\n",
       "      <td>-6.5304375</td>\n",
       "      <td>1.2076737</td>\n",
       "      <td>Local</td>\n",
       "    </tr>\n",
       "    <tr>\n",
       "      <th>0</th>\n",
       "      <td>London</td>\n",
       "      <td>-7.3480773</td>\n",
       "      <td>1.897887</td>\n",
       "      <td>Beijing transfer</td>\n",
       "    </tr>\n",
       "    <tr>\n",
       "      <th>0</th>\n",
       "      <td>New York</td>\n",
       "      <td>-8.842535</td>\n",
       "      <td>2.6912062</td>\n",
       "      <td>Default</td>\n",
       "    </tr>\n",
       "    <tr>\n",
       "      <th>0</th>\n",
       "      <td>New York</td>\n",
       "      <td>-7.4896555</td>\n",
       "      <td>1.6290826</td>\n",
       "      <td>Local</td>\n",
       "    </tr>\n",
       "    <tr>\n",
       "      <th>0</th>\n",
       "      <td>New York</td>\n",
       "      <td>-7.944302</td>\n",
       "      <td>2.1567843</td>\n",
       "      <td>Beijing transfer</td>\n",
       "    </tr>\n",
       "    <tr>\n",
       "      <th>0</th>\n",
       "      <td>Beijing</td>\n",
       "      <td>-12.942721</td>\n",
       "      <td>4.852691</td>\n",
       "      <td>Default</td>\n",
       "    </tr>\n",
       "    <tr>\n",
       "      <th>0</th>\n",
       "      <td>Beijing</td>\n",
       "      <td>-7.3818865</td>\n",
       "      <td>1.7486806</td>\n",
       "      <td>Local</td>\n",
       "    </tr>\n",
       "    <tr>\n",
       "      <th>0</th>\n",
       "      <td>Beijing</td>\n",
       "      <td>-7.3609114</td>\n",
       "      <td>1.7036912</td>\n",
       "      <td>Beijing transfer</td>\n",
       "    </tr>\n",
       "    <tr>\n",
       "      <th>0</th>\n",
       "      <td>Hong Kong</td>\n",
       "      <td>-11.374891</td>\n",
       "      <td>5.3298116</td>\n",
       "      <td>Default</td>\n",
       "    </tr>\n",
       "    <tr>\n",
       "      <th>0</th>\n",
       "      <td>Hong Kong</td>\n",
       "      <td>-8.904188</td>\n",
       "      <td>3.5600262</td>\n",
       "      <td>Local</td>\n",
       "    </tr>\n",
       "    <tr>\n",
       "      <th>0</th>\n",
       "      <td>Hong Kong</td>\n",
       "      <td>-6.7675724</td>\n",
       "      <td>1.0667317</td>\n",
       "      <td>Beijing transfer</td>\n",
       "    </tr>\n",
       "    <tr>\n",
       "      <th>0</th>\n",
       "      <td>Singapore</td>\n",
       "      <td>-14.112727</td>\n",
       "      <td>2.2382314</td>\n",
       "      <td>Default</td>\n",
       "    </tr>\n",
       "    <tr>\n",
       "      <th>0</th>\n",
       "      <td>Singapore</td>\n",
       "      <td>-7.508499</td>\n",
       "      <td>0.13611099</td>\n",
       "      <td>Local</td>\n",
       "    </tr>\n",
       "    <tr>\n",
       "      <th>0</th>\n",
       "      <td>Singapore</td>\n",
       "      <td>-7.504309</td>\n",
       "      <td>0.1191459</td>\n",
       "      <td>Beijing transfer</td>\n",
       "    </tr>\n",
       "  </tbody>\n",
       "</table>\n",
       "</div>"
      ],
      "text/plain": [
       "        city        mean         std              type\n",
       "0     London   -7.490558   1.2195758           Default\n",
       "0     London  -6.5304375   1.2076737             Local\n",
       "0     London  -7.3480773    1.897887  Beijing transfer\n",
       "0   New York   -8.842535   2.6912062           Default\n",
       "0   New York  -7.4896555   1.6290826             Local\n",
       "0   New York   -7.944302   2.1567843  Beijing transfer\n",
       "0    Beijing  -12.942721    4.852691           Default\n",
       "0    Beijing  -7.3818865   1.7486806             Local\n",
       "0    Beijing  -7.3609114   1.7036912  Beijing transfer\n",
       "0  Hong Kong  -11.374891   5.3298116           Default\n",
       "0  Hong Kong   -8.904188   3.5600262             Local\n",
       "0  Hong Kong  -6.7675724   1.0667317  Beijing transfer\n",
       "0  Singapore  -14.112727   2.2382314           Default\n",
       "0  Singapore   -7.508499  0.13611099             Local\n",
       "0  Singapore   -7.504309   0.1191459  Beijing transfer"
      ]
     },
     "execution_count": 4,
     "metadata": {},
     "output_type": "execute_result"
    }
   ],
   "source": [
    "df = pd.DataFrame(columns=[\"city\", \"mean\", \"std\", \"type\"])\n",
    "df_dict = {}\n",
    "for city in cities_label:\n",
    "\n",
    "    if city == \"London\":\n",
    "        timeslice = (\"2012\", \"2012\")\n",
    "    else:\n",
    "        timeslice = (\"2021\", \"2021\")\n",
    "\n",
    "    ds = xr.open_dataset('../hac_on_wasteheat/'+cities_label[city] + \"/default.nc\")\n",
    "    ds_rl = xr.open_dataset('../clmu_sac_output/'+cities_label[city] + \"_sac_clmu_sac.nc\")\n",
    "    ds_rl_ts = xr.open_dataset(f\"../clmu_sac_output/beijing_to_{cities_label[city]}_clmu_sac.nc\")\n",
    "    \n",
    "    mean, std = cal_reward(plt, ds, timeslice)\n",
    "    df = pd.concat([df, pd.DataFrame({\"city\":[city], \"mean\":[mean], \"std\":[std], \"type\":[\"Default\"]})])\n",
    "    \n",
    "    mean, std = cal_reward(plt, ds_rl, timeslice)\n",
    "    df = pd.concat([df, pd.DataFrame({\"city\":[city], \"mean\":[mean], \"std\":[std], \"type\":[\"Local\"]})])\n",
    "    \n",
    "    mean, std = cal_reward(plt, ds_rl_ts, timeslice)\n",
    "    df = pd.concat([df, pd.DataFrame({\"city\":[city], \"mean\":[mean], \"std\":[std], \"type\":[\"Beijing transfer\"]})])\n",
    "\n",
    "df"
   ]
  },
  {
   "cell_type": "code",
   "execution_count": 5,
   "metadata": {},
   "outputs": [
    {
     "data": {
      "image/png": "[encoded data removed]",
      "text/plain": [
       "<Figure size 800x400 with 1 Axes>"
      ]
     },
     "metadata": {},
     "output_type": "display_data"
    }
   ],
   "source": [
    "fig, ax = plt.subplots(1, 1, figsize=(8, 4))\n",
    "\n",
    "width = 0.25  # the width of the bars\n",
    "multiplier = 0\n",
    "\n",
    "colors = ['#6e6a6f','#0091FF','#DB3630', \"#da4167\",'#ff70a6']\n",
    "\n",
    "\n",
    "x = np.arange(len(df['city'].unique()))\n",
    "\n",
    "for t in df['type'].unique():\n",
    "    offset = width * multiplier\n",
    "    rects = plt.bar(x + offset, df[df['type']==t]['mean'], yerr=df[df['type']==t]['std'], \n",
    "                    label=t, width=width, color=colors[multiplier], edgecolor='black', linewidth=1.5)\n",
    "    #ax.bar_label(rects, padding=3, fmt='%.2f', fontsize=9)\n",
    "    multiplier += 1\n",
    "\n",
    "ax.set_ylim(-20, 0)\n",
    "ax.set_yticks(np.arange(-20, 1, 5))\n",
    "ax.set_ylabel('Reward')\n",
    "ax.set_xticks(x+width)\n",
    "ax.set_xticklabels(df['city'].unique())\n",
    "fig.legend(frameon=False, loc='upper center', ncol=3, bbox_to_anchor=(0.55, 1.05))\n",
    "fig.tight_layout()\n",
    "fig.savefig(\"./figs/transfer_beijing.pdf\", bbox_inches='tight', dpi=300)\n",
    "plt.show()"
   ]
  }
 ],
 "metadata": {
  "kernelspec": {
   "display_name": "pyclmuapp",
   "language": "python",
   "name": "python3"
  },
  "language_info": {
   "codemirror_mode": {
    "name": "ipython",
    "version": 3
   },
   "file_extension": ".py",
   "mimetype": "text/x-python",
   "name": "python",
   "nbconvert_exporter": "python",
   "pygments_lexer": "ipython3",
   "version": "3.9.19"
  }
 },
 "nbformat": 4,
 "nbformat_minor": 2
}
